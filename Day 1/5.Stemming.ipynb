{
 "cells": [
  {
   "cell_type": "markdown",
   "id": "cc4678dc-8cca-4ba1-9611-a9177439b10a",
   "metadata": {},
   "source": [
    "# Stemming"
   ]
  },
  {
   "cell_type": "markdown",
   "id": "a24a2acc-3624-4e24-a7e0-fd401745e691",
   "metadata": {},
   "source": [
    "\n",
    "Stemming is like cutting words down to their basic form. For example, the words **\"playing,\" \"played,\" and \"plays\"** can all be reduced to **\"play.\"** It helps computers understand that these words are related."
   ]
  },
  {
   "cell_type": "code",
   "execution_count": 1,
   "id": "8635c676-f187-4554-97be-c286ff950043",
   "metadata": {},
   "outputs": [],
   "source": [
    "## classification problem\n",
    "## comments of product is positive or negative\n",
    "## reviews ==> eating, eat, eaten"
   ]
  },
  {
   "cell_type": "code",
   "execution_count": 2,
   "id": "8a259d83-a6dd-43c4-8669-b78ec693df0e",
   "metadata": {},
   "outputs": [],
   "source": [
    "words = [\"running\", \"played\", \"playing\", \"easily\", \"happier\", \"flying\", \"studies\", \"studying\", \"cats\", \"dogs\"]\n"
   ]
  },
  {
   "cell_type": "markdown",
   "id": "29928777-dfd4-4f91-b143-c8bcded50d7a",
   "metadata": {},
   "source": [
    "## Porter Stemmer"
   ]
  },
  {
   "cell_type": "code",
   "execution_count": 3,
   "id": "4f93f719-b4af-4923-88e6-5fd7f87e82fd",
   "metadata": {},
   "outputs": [],
   "source": [
    "from nltk.stem import PorterStemmer\n",
    "stemming = PorterStemmer()"
   ]
  },
  {
   "cell_type": "code",
   "execution_count": 6,
   "id": "f8d6b145-d7ba-418d-800f-6bc26da3d107",
   "metadata": {},
   "outputs": [
    {
     "name": "stdout",
     "output_type": "stream",
     "text": [
      "running-->run\n",
      "played-->play\n",
      "playing-->play\n",
      "easily-->easili\n",
      "happier-->happier\n",
      "flying-->fli\n",
      "studies-->studi\n",
      "studying-->studi\n",
      "cats-->cat\n",
      "dogs-->dog\n"
     ]
    }
   ],
   "source": [
    "for i in words:\n",
    "    print(f'{i}-->{stemming.stem(i)}')"
   ]
  },
  {
   "cell_type": "code",
   "execution_count": 7,
   "id": "fff5f324-2af4-454d-8fd2-236a07e290da",
   "metadata": {},
   "outputs": [
    {
     "data": {
      "text/plain": [
       "'congratul'"
      ]
     },
     "execution_count": 7,
     "metadata": {},
     "output_type": "execute_result"
    }
   ],
   "source": [
    "# check another example\n",
    "stemming.stem('Congratulations')"
   ]
  },
  {
   "cell_type": "code",
   "execution_count": 8,
   "id": "d0ceea97-aa60-4ab2-9ca2-fd960feab05e",
   "metadata": {},
   "outputs": [
    {
     "data": {
      "text/plain": [
       "'seat'"
      ]
     },
     "execution_count": 8,
     "metadata": {},
     "output_type": "execute_result"
    }
   ],
   "source": [
    "# check another example\n",
    "stemming.stem('Seating')"
   ]
  },
  {
   "cell_type": "markdown",
   "id": "e1f15476-b2b6-4633-955e-789b9b70e876",
   "metadata": {},
   "source": [
    "## RegexStemmer\n",
    "\n",
    "A **RegexStemmer** is a simple way of stemming words by using patterns (regex) to remove common prefixes or suffixes from words. This is not as advanced as other stemmers like PorterStemmer, but it works for basic cases."
   ]
  },
  {
   "cell_type": "code",
   "execution_count": 10,
   "id": "4a5b48a8-e3e3-4e9e-897d-2dc6219d98db",
   "metadata": {},
   "outputs": [],
   "source": [
    "from nltk.stem import RegexpStemmer\n",
    "reg_stemmer = RegexpStemmer('ing$|s$|e$|able$', min=4)"
   ]
  },
  {
   "cell_type": "code",
   "execution_count": 13,
   "id": "ad1c86c2-73f4-400e-bdf9-b55305b448c9",
   "metadata": {},
   "outputs": [
    {
     "data": {
      "text/plain": [
       "'eat'"
      ]
     },
     "execution_count": 13,
     "metadata": {},
     "output_type": "execute_result"
    }
   ],
   "source": [
    "reg_stemmer.stem('eating')"
   ]
  },
  {
   "cell_type": "code",
   "execution_count": 15,
   "id": "8bac3fc6-a823-45c4-b941-c74909021e38",
   "metadata": {},
   "outputs": [
    {
     "data": {
      "text/plain": [
       "'ingeat'"
      ]
     },
     "execution_count": 15,
     "metadata": {},
     "output_type": "execute_result"
    }
   ],
   "source": [
    "# work with only if ing is in the last\n",
    "reg_stemmer.stem('eating')"
   ]
  },
  {
   "cell_type": "code",
   "execution_count": 17,
   "id": "2ea556e6-921a-4df9-8100-d6de7a4c6e3f",
   "metadata": {},
   "outputs": [
    {
     "data": {
      "text/plain": [
       "'s'"
      ]
     },
     "execution_count": 17,
     "metadata": {},
     "output_type": "execute_result"
    }
   ],
   "source": [
    "reg_stemmer.stem('sing')"
   ]
  },
  {
   "cell_type": "markdown",
   "id": "05f085f0-d84d-4487-9fd5-ac6d3936790e",
   "metadata": {},
   "source": [
    "## Snowball Stemmer  \n",
    "\n",
    "The Snowball Stemmer is a type of tool that cuts words down to their root form, just like the PorterStemmer, but it’s newer and works better for different languages. Think of it as a smarter stemmer that knows how to handle more word endings.  \n"
   ]
  },
  {
   "cell_type": "code",
   "execution_count": 18,
   "id": "026f82be-972d-4ea9-b332-1b5fdaa09424",
   "metadata": {},
   "outputs": [],
   "source": [
    "from nltk.stem import SnowballStemmer\n",
    "snowball = SnowballStemmer('english')"
   ]
  },
  {
   "cell_type": "code",
   "execution_count": 20,
   "id": "6953d8c0-b561-43e8-b2d6-1a573d48c17f",
   "metadata": {},
   "outputs": [
    {
     "name": "stdout",
     "output_type": "stream",
     "text": [
      "running-->run\n",
      "played-->play\n",
      "playing-->play\n",
      "easily-->easili\n",
      "happier-->happier\n",
      "flying-->fli\n",
      "studies-->studi\n",
      "studying-->studi\n",
      "cats-->cat\n",
      "dogs-->dog\n"
     ]
    }
   ],
   "source": [
    "for i in words:\n",
    "    print(f'{i}-->{snowball.stem(i)}')"
   ]
  },
  {
   "cell_type": "code",
   "execution_count": null,
   "id": "a0dea428-6a3e-4f3c-a255-c97bee9a347e",
   "metadata": {},
   "outputs": [],
   "source": []
  },
  {
   "cell_type": "markdown",
   "id": "fc6386b8-38e2-401b-afe3-85d4ff8cef97",
   "metadata": {},
   "source": [
    "### Differnce Working with Snowball Vs PorterStemmer"
   ]
  },
  {
   "cell_type": "code",
   "execution_count": 24,
   "id": "f91bb88c-860b-46fc-bdd0-481de6f98b45",
   "metadata": {},
   "outputs": [
    {
     "data": {
      "text/plain": [
       "'gener'"
      ]
     },
     "execution_count": 24,
     "metadata": {},
     "output_type": "execute_result"
    }
   ],
   "source": [
    "# porter stemmer\n",
    "\n",
    "stemming.stem('generalizations')"
   ]
  },
  {
   "cell_type": "code",
   "execution_count": 26,
   "id": "45ac7cab-4a12-4004-a01e-40a077a49fb1",
   "metadata": {},
   "outputs": [
    {
     "data": {
      "text/plain": [
       "'general'"
      ]
     },
     "execution_count": 26,
     "metadata": {},
     "output_type": "execute_result"
    }
   ],
   "source": [
    "# snowball stemmer\n",
    "\n",
    "snowball.stem('generalizations')"
   ]
  },
  {
   "cell_type": "code",
   "execution_count": null,
   "id": "5b097134-bf32-4932-99f3-e0aaa71b1529",
   "metadata": {},
   "outputs": [],
   "source": []
  },
  {
   "cell_type": "markdown",
   "id": "1d0d9a00-fb75-4967-b146-82b04af73479",
   "metadata": {},
   "source": [
    "We often prefer **lemmatization** over **stemming** because lemmatization provides more accurate results. Here's why:\n",
    "\n",
    "**Meaningful Output**  \n",
    "- **Stemming**: Cuts words to their base form without understanding the context, often creating non-real words (e.g., \"studying\" → \"studi\").  \n",
    "- **Lemmatization**: Uses a dictionary to find the root word, producing real words (e.g., \"studying\" → \"study\").\n",
    "\n",
    "---\n",
    "\n",
    "**Accuracy**  \n",
    "- **Stemming**: Can over-stem or under-stem words, leading to errors.  \n",
    "  Example:  \n",
    "  - \"running\" → \"runn\" (not a valid word).  \n",
    "- **Lemmatization**: Produces more accurate and complete root forms.  \n",
    "  Example:  \n",
    "  - \"running\" → \"run\"."
   ]
  },
  {
   "cell_type": "code",
   "execution_count": null,
   "id": "5db48c1f-4445-493a-bb20-233e1c7e3bfb",
   "metadata": {},
   "outputs": [],
   "source": []
  }
 ],
 "metadata": {
  "kernelspec": {
   "display_name": "Python 3 (ipykernel)",
   "language": "python",
   "name": "python3"
  },
  "language_info": {
   "codemirror_mode": {
    "name": "ipython",
    "version": 3
   },
   "file_extension": ".py",
   "mimetype": "text/x-python",
   "name": "python",
   "nbconvert_exporter": "python",
   "pygments_lexer": "ipython3",
   "version": "3.12.4"
  }
 },
 "nbformat": 4,
 "nbformat_minor": 5
}
