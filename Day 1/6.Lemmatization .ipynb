{
 "cells": [
  {
   "cell_type": "markdown",
   "id": "9685b78a-a8b7-4015-bcef-863f93e328c6",
   "metadata": {},
   "source": [
    "# Lemmatization\r\n",
    "\r\n",
    "Lemmatization is the process of converting a word to its base or root form, called a **lemma**, by considering its **meaning** and **part of speech (POS)**. Unlike stemming, it always produces real, meaningful words.  \r\n",
    "\r\n",
    "For example:  \r\n",
    "- **\"running\" → \"run\"**  \r\n",
    "- **\"better\" → \"good\"**  \r\n",
    "- **\"studies\" → \"study\"**  \r\n",
    "\r\n",
    "Lemmatization uses a **dictionary** and **grammar rules** to ensure the root word makes sense in context. It's more accurate than stemming but also slower because it requires more processing."
   ]
  },
  {
   "cell_type": "code",
   "execution_count": null,
   "id": "e369b621-82f3-46ef-8e2a-63ecf44a4614",
   "metadata": {},
   "outputs": [],
   "source": []
  },
  {
   "cell_type": "markdown",
   "id": "caedd210-3781-44cd-8ebb-bcbf92258bda",
   "metadata": {},
   "source": [
    "## WordNetLemmatizer"
   ]
  },
  {
   "cell_type": "markdown",
   "id": "bdc68ffb-ab8e-4b11-ba9e-54f03082e474",
   "metadata": {},
   "source": [
    "The **WordNetLemmatizer** is a tool in the **Natural Language Toolkit (NLTK)** that uses the **WordNet lexical database** to perform **lemmatization**. It reduces words to their base or root form (**lemma**) by considering their **part of speech (POS)**."
   ]
  },
  {
   "cell_type": "code",
   "execution_count": 2,
   "id": "6b425a53-b359-4381-b4ec-cdfc95260529",
   "metadata": {},
   "outputs": [],
   "source": [
    "from nltk.stem import WordNetLemmatizer\n",
    "lematizer = WordNetLemmatizer()"
   ]
  },
  {
   "cell_type": "code",
   "execution_count": 4,
   "id": "76171957-7eed-438f-b5a1-fc5c63506d20",
   "metadata": {},
   "outputs": [
    {
     "data": {
      "text/plain": [
       "'go'"
      ]
     },
     "execution_count": 4,
     "metadata": {},
     "output_type": "execute_result"
    }
   ],
   "source": [
    "lematizer.lemmatize('going', pos='v')"
   ]
  },
  {
   "cell_type": "code",
   "execution_count": 5,
   "id": "9cf262a5-8b22-40fa-9da7-cea4f9f9a574",
   "metadata": {},
   "outputs": [],
   "source": [
    "words = [\"running\", \"played\", \"playing\", \"easily\", \"happier\", \"flying\", \"studies\", \"studying\", \"cats\", \"dogs\"]\n"
   ]
  },
  {
   "cell_type": "code",
   "execution_count": 6,
   "id": "fa7eb126-f96f-4209-9600-fd51ff2edf3f",
   "metadata": {},
   "outputs": [
    {
     "name": "stdout",
     "output_type": "stream",
     "text": [
      "running-->running\n",
      "played-->played\n",
      "playing-->playing\n",
      "easily-->easily\n",
      "happier-->happier\n",
      "flying-->flying\n",
      "studies-->study\n",
      "studying-->studying\n",
      "cats-->cat\n",
      "dogs-->dog\n"
     ]
    }
   ],
   "source": [
    "for i in words:\n",
    "    print(f'{i}-->{lematizer.lemmatize(i)}')"
   ]
  },
  {
   "cell_type": "code",
   "execution_count": null,
   "id": "31645ff8-70a0-4185-9152-70e3ebfad664",
   "metadata": {},
   "outputs": [],
   "source": []
  },
  {
   "cell_type": "markdown",
   "id": "275eb79a-227c-43bc-ac4e-26178bff5851",
   "metadata": {},
   "source": [
    "## disadvantages\n",
    "\n",
    "- it takes so much time of big dataset\n",
    "\n",
    "## where we use this\n",
    "\n",
    "- chatbots, Q&A"
   ]
  },
  {
   "cell_type": "code",
   "execution_count": null,
   "id": "520834f7-3867-430b-a64f-8880b480f751",
   "metadata": {},
   "outputs": [],
   "source": []
  }
 ],
 "metadata": {
  "kernelspec": {
   "display_name": "Python 3 (ipykernel)",
   "language": "python",
   "name": "python3"
  },
  "language_info": {
   "codemirror_mode": {
    "name": "ipython",
    "version": 3
   },
   "file_extension": ".py",
   "mimetype": "text/x-python",
   "name": "python",
   "nbconvert_exporter": "python",
   "pygments_lexer": "ipython3",
   "version": "3.12.4"
  }
 },
 "nbformat": 4,
 "nbformat_minor": 5
}
