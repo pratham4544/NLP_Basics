{
 "cells": [
  {
   "cell_type": "markdown",
   "id": "a5903d0e-9846-4987-a5e0-975040661be0",
   "metadata": {},
   "source": [
    "# Stopwords"
   ]
  },
  {
   "cell_type": "markdown",
   "id": "d13d2aa5-a7b1-4785-8a35-d7df846963fd",
   "metadata": {},
   "source": [
    "**Stopwords** are common words in a language that don't carry much meaning on their own, such as \"the,\" \"is,\" \"in,\" \"and,\" and \"a.\" These words are usually removed during text analysis because they appear so often and don't add important information.\n",
    "\n",
    "For example, in the sentence:  \n",
    "**\"The cat is sitting on the mat.\"**  \n",
    "The words **\"the\"** and **\"is\"** are stopwords because they don't help us understand the main content (which is about the **cat**, **sitting**, and **mat**)."
   ]
  },
  {
   "cell_type": "code",
   "execution_count": 14,
   "id": "f1f99ad8-6cf5-4e85-a356-49f42cacb05f",
   "metadata": {},
   "outputs": [],
   "source": [
    "paragraph = \"Natural language processing (NLP) is a subfield of artificial intelligence (AI) that focuses on the interaction between computers and human languages. The ultimate goal of NLP is to enable machines to understand, interpret, and generate human language in a way that is both meaningful and useful. Techniques such as tokenization, part-of-speech tagging, and named entity recognition are commonly used in NLP applications. Despite the advances in NLP, challenges such as ambiguity, context, and language diversity still pose significant difficulties.\""
   ]
  },
  {
   "cell_type": "code",
   "execution_count": 2,
   "id": "6d72baab-50ae-48ae-b2aa-d3fb0168d721",
   "metadata": {},
   "outputs": [],
   "source": [
    "from nltk.stem import PorterStemmer\n",
    "stemmer = PorterStemmer()\n"
   ]
  },
  {
   "cell_type": "code",
   "execution_count": 3,
   "id": "03a4f73e-b92b-497f-a1d9-9294b13d64fc",
   "metadata": {},
   "outputs": [
    {
     "name": "stderr",
     "output_type": "stream",
     "text": [
      "[nltk_data] Downloading package stopwords to\n",
      "[nltk_data]     C:\\Users\\parth\\AppData\\Roaming\\nltk_data...\n",
      "[nltk_data]   Package stopwords is already up-to-date!\n"
     ]
    },
    {
     "data": {
      "text/plain": [
       "True"
      ]
     },
     "execution_count": 3,
     "metadata": {},
     "output_type": "execute_result"
    }
   ],
   "source": [
    "import nltk\n",
    "nltk.download('stopwords')"
   ]
  },
  {
   "cell_type": "code",
   "execution_count": 4,
   "id": "f451a699-f385-46d5-a2f6-e92b0cce414b",
   "metadata": {},
   "outputs": [],
   "source": [
    "from nltk.corpus import stopwords\n",
    "en_stopwords = stopwords.words('english')"
   ]
  },
  {
   "cell_type": "code",
   "execution_count": 5,
   "id": "7006ccf8-4ade-419c-81b0-885a19838a77",
   "metadata": {},
   "outputs": [
    {
     "data": {
      "text/plain": [
       "179"
      ]
     },
     "execution_count": 5,
     "metadata": {},
     "output_type": "execute_result"
    }
   ],
   "source": [
    "len(stopwords.words('english'))"
   ]
  },
  {
   "cell_type": "code",
   "execution_count": 6,
   "id": "5bebafd5-b5da-4149-ba29-fac72b581a9d",
   "metadata": {},
   "outputs": [
    {
     "data": {
      "text/plain": [
       "157"
      ]
     },
     "execution_count": 6,
     "metadata": {},
     "output_type": "execute_result"
    }
   ],
   "source": [
    "len(stopwords.words('french'))"
   ]
  },
  {
   "cell_type": "markdown",
   "id": "31133164-3cd3-473e-9847-9e294341b2e9",
   "metadata": {},
   "source": [
    "### 1. Convert paragaphs in to sentences"
   ]
  },
  {
   "cell_type": "code",
   "execution_count": 23,
   "id": "bd175a4c-b0e2-400a-b5bf-3d85d9503aea",
   "metadata": {},
   "outputs": [
    {
     "data": {
      "text/plain": [
       "4"
      ]
     },
     "execution_count": 23,
     "metadata": {},
     "output_type": "execute_result"
    }
   ],
   "source": [
    "from nltk.tokenize import sent_tokenize\n",
    "\n",
    "sentences = sent_tokenize(paragraph)\n",
    "\n",
    "len(sentences)"
   ]
  },
  {
   "cell_type": "code",
   "execution_count": 24,
   "id": "eb6dc99f-344d-4c4c-96cb-128ee44550bb",
   "metadata": {},
   "outputs": [
    {
     "data": {
      "text/plain": [
       "['Natural language processing (NLP) is a subfield of artificial intelligence (AI) that focuses on the interaction between computers and human languages.',\n",
       " 'The ultimate goal of NLP is to enable machines to understand, interpret, and generate human language in a way that is both meaningful and useful.',\n",
       " 'Techniques such as tokenization, part-of-speech tagging, and named entity recognition are commonly used in NLP applications.',\n",
       " 'Despite the advances in NLP, challenges such as ambiguity, context, and language diversity still pose significant difficulties.']"
      ]
     },
     "execution_count": 24,
     "metadata": {},
     "output_type": "execute_result"
    }
   ],
   "source": [
    "sentences"
   ]
  },
  {
   "cell_type": "markdown",
   "id": "45e57cb7-48ff-4001-98f1-fd76e90c1fa3",
   "metadata": {},
   "source": [
    "### 2. remove stopwords from the sentences"
   ]
  },
  {
   "cell_type": "code",
   "execution_count": 29,
   "id": "f0c80b0a-002e-477b-bf3a-9ee6268dc067",
   "metadata": {},
   "outputs": [],
   "source": [
    "# using basic porterstemmer\n",
    "\n",
    "sentences = sent_tokenize(paragraph)\n",
    "\n",
    "for i in range(len(sentences)):\n",
    "    words = nltk.word_tokenize(sentences[i])\n",
    "    stopwords_less_words = [stemmer.stem(word) for word in words if word not in set(en_stopwords)]\n",
    "    sentences[i] = ' '.join(stopwords_less_words)"
   ]
  },
  {
   "cell_type": "code",
   "execution_count": 30,
   "id": "44888d44-5f69-467a-ab18-9b6dbbdafe53",
   "metadata": {},
   "outputs": [
    {
     "data": {
      "text/plain": [
       "['natur languag process ( nlp ) subfield artifici intellig ( ai ) focus interact comput human languag .',\n",
       " 'the ultim goal nlp enabl machin understand , interpret , generat human languag way meaning use .',\n",
       " 'techniqu token , part-of-speech tag , name entiti recognit common use nlp applic .',\n",
       " 'despit advanc nlp , challeng ambigu , context , languag divers still pose signific difficulti .']"
      ]
     },
     "execution_count": 30,
     "metadata": {},
     "output_type": "execute_result"
    }
   ],
   "source": [
    "sentences"
   ]
  },
  {
   "cell_type": "code",
   "execution_count": 35,
   "id": "0a31716a-5f3e-40cf-afef-51d8df69026c",
   "metadata": {},
   "outputs": [],
   "source": [
    "# checking with Snowball stemmer\n",
    "\n",
    "sentences = sent_tokenize(paragraph)\n",
    "\n",
    "from nltk.stem import SnowballStemmer\n",
    "stemmer = SnowballStemmer('english')\n",
    "\n",
    "for i in range(len(sentences)):\n",
    "    words = nltk.word_tokenize(sentences[i])\n",
    "    stopwords_less_words = [stemmer.stem(word) for word in words if word not in set(en_stopwords)]\n",
    "    sentences[i] = ' '.join(stopwords_less_words)"
   ]
  },
  {
   "cell_type": "code",
   "execution_count": 36,
   "id": "d00c480d-bca1-4a16-a4e2-14b311592788",
   "metadata": {},
   "outputs": [
    {
     "data": {
      "text/plain": [
       "['natur languag process ( nlp ) subfield artifici intellig ( ai ) focus interact comput human languag .',\n",
       " 'the ultim goal nlp enabl machin understand , interpret , generat human languag way meaning use .',\n",
       " 'techniqu token , part-of-speech tag , name entiti recognit common use nlp applic .',\n",
       " 'despit advanc nlp , challeng ambigu , context , languag divers still pose signific difficulti .']"
      ]
     },
     "execution_count": 36,
     "metadata": {},
     "output_type": "execute_result"
    }
   ],
   "source": [
    "sentences"
   ]
  },
  {
   "cell_type": "code",
   "execution_count": 37,
   "id": "ac2a6c78-8655-4280-8adf-b7424c706dc5",
   "metadata": {},
   "outputs": [],
   "source": [
    "# using lemmatization techinque\n",
    "\n",
    "sentences = sent_tokenize(paragraph)\n",
    "\n",
    "\n",
    "from nltk.stem import WordNetLemmatizer\n",
    "lemmtize = WordNetLemmatizer()\n",
    "\n",
    "for i in range(len(sentences)):\n",
    "    words = nltk.word_tokenize(sentences[i])\n",
    "    stopwords_less_words = [lemmtize.lemmatize(word, pos='v') for word in words if word not in set(en_stopwords)]\n",
    "    sentences[i] = ' '.join(stopwords_less_words)"
   ]
  },
  {
   "cell_type": "code",
   "execution_count": 38,
   "id": "e7301c7a-24bb-461b-a0a6-4653be6a5396",
   "metadata": {},
   "outputs": [
    {
     "data": {
      "text/plain": [
       "['Natural language process ( NLP ) subfield artificial intelligence ( AI ) focus interaction computers human languages .',\n",
       " 'The ultimate goal NLP enable machine understand , interpret , generate human language way meaningful useful .',\n",
       " 'Techniques tokenization , part-of-speech tag , name entity recognition commonly use NLP applications .',\n",
       " 'Despite advance NLP , challenge ambiguity , context , language diversity still pose significant difficulties .']"
      ]
     },
     "execution_count": 38,
     "metadata": {},
     "output_type": "execute_result"
    }
   ],
   "source": [
    "sentences"
   ]
  },
  {
   "cell_type": "code",
   "execution_count": 28,
   "id": "94c2fe44-6acb-421b-92ce-3d85b50c4545",
   "metadata": {},
   "outputs": [
    {
     "data": {
      "text/plain": [
       "'ultimate'"
      ]
     },
     "execution_count": 28,
     "metadata": {},
     "output_type": "execute_result"
    }
   ],
   "source": [
    "lemmtize.lemmatize('ultimate',pos='v')"
   ]
  },
  {
   "cell_type": "code",
   "execution_count": null,
   "id": "591283f8-90d4-445c-bda8-f4da7f524e06",
   "metadata": {},
   "outputs": [],
   "source": []
  }
 ],
 "metadata": {
  "kernelspec": {
   "display_name": "Python 3 (ipykernel)",
   "language": "python",
   "name": "python3"
  },
  "language_info": {
   "codemirror_mode": {
    "name": "ipython",
    "version": 3
   },
   "file_extension": ".py",
   "mimetype": "text/x-python",
   "name": "python",
   "nbconvert_exporter": "python",
   "pygments_lexer": "ipython3",
   "version": "3.12.4"
  }
 },
 "nbformat": 4,
 "nbformat_minor": 5
}
